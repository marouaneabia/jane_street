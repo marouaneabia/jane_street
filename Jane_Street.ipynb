{
  "nbformat": 4,
  "nbformat_minor": 0,
  "metadata": {
    "colab": {
      "name": "Jane Street.ipynb",
      "provenance": [],
      "collapsed_sections": [],
      "authorship_tag": "ABX9TyMfgNNmRp3Z9F4pkRuBPN3p",
      "include_colab_link": true
    },
    "kernelspec": {
      "name": "python3",
      "display_name": "Python 3"
    }
  },
  "cells": [
    {
      "cell_type": "markdown",
      "metadata": {
        "id": "view-in-github",
        "colab_type": "text"
      },
      "source": [
        "<a href=\"https://colab.research.google.com/github/marouaneabia/jane_street/blob/main/Jane_Street.ipynb\" target=\"_parent\"><img src=\"https://colab.research.google.com/assets/colab-badge.svg\" alt=\"Open In Colab\"/></a>"
      ]
    },
    {
      "cell_type": "code",
      "metadata": {
        "id": "_eMjThooQsk7"
      },
      "source": [
        "from google.colab import files\r\n",
        "\r\n",
        "\r\n",
        "!pip install -q kaggle"
      ],
      "execution_count": 12,
      "outputs": []
    },
    {
      "cell_type": "code",
      "metadata": {
        "id": "wmuZRIzSgTfw"
      },
      "source": [
        "!mkdir -p ~/.kaggle\r\n",
        "!cp kaggle.json ~/.kaggle/\r\n",
        "!chmod 600 ~/.kaggle/kaggle.json"
      ],
      "execution_count": 13,
      "outputs": []
    },
    {
      "cell_type": "code",
      "metadata": {
        "colab": {
          "base_uri": "https://localhost:8080/"
        },
        "id": "uk1Vaqq-gnaA",
        "outputId": "a3c6b4fe-08a8-4570-b6fe-5b007b64a99a"
      },
      "source": [
        "!kaggle competitions download -c jane-street-market-prediction"
      ],
      "execution_count": 14,
      "outputs": [
        {
          "output_type": "stream",
          "text": [
            "Warning: Looks like you're using an outdated API Version, please consider updating (server 1.5.10 / client 1.5.4)\n",
            "Downloading __init__.py to /content\n",
            "  0% 0.00/59.0 [00:00<?, ?B/s]\n",
            "100% 59.0/59.0 [00:00<00:00, 98.2kB/s]\n",
            "Downloading competition.cpython-37m-x86_64-linux-gnu.so to /content\n",
            "  0% 0.00/441k [00:00<?, ?B/s]\n",
            "100% 441k/441k [00:00<00:00, 59.5MB/s]\n",
            "Downloading features.csv to /content\n",
            "  0% 0.00/23.3k [00:00<?, ?B/s]\n",
            "100% 23.3k/23.3k [00:00<00:00, 48.4MB/s]\n",
            "Downloading example_test.csv.zip to /content\n",
            "100% 16.4M/16.4M [00:00<00:00, 25.9MB/s]\n",
            "\n",
            "Downloading train.csv.zip to /content\n",
            "100% 2.60G/2.61G [00:36<00:00, 81.8MB/s]\n",
            "100% 2.61G/2.61G [00:36<00:00, 77.0MB/s]\n",
            "Downloading example_sample_submission.csv to /content\n",
            "  0% 0.00/108k [00:00<?, ?B/s]\n",
            "100% 108k/108k [00:00<00:00, 113MB/s]\n"
          ],
          "name": "stdout"
        }
      ]
    },
    {
      "cell_type": "code",
      "metadata": {
        "colab": {
          "base_uri": "https://localhost:8080/"
        },
        "id": "U3FgIPz3hpSX",
        "outputId": "709612d7-4892-431b-e462-bf5ef7f73c85"
      },
      "source": [
        "!ls"
      ],
      "execution_count": 15,
      "outputs": [
        {
          "output_type": "stream",
          "text": [
            "competition.cpython-37m-x86_64-linux-gnu.so  features.csv  sample_data\n",
            "example_sample_submission.csv\t\t     __init__.py   train.csv.zip\n",
            "example_test.csv.zip\t\t\t     kaggle.json\n"
          ],
          "name": "stdout"
        }
      ]
    },
    {
      "cell_type": "code",
      "metadata": {
        "id": "LxlHS7tZhJLo"
      },
      "source": [
        "import pandas as pd\r\n",
        "\r\n",
        "# Import the test and train datasets into pandas dataframe\r\n",
        "df_train = pd.read_csv('train.csv.zip', compression='zip', header=0, sep=',', quotechar='\"')\r\n",
        "df_test = pd.read_csv('example_test.csv.zip', compression='zip', header=0, sep=',', quotechar='\"')\r\n",
        "df_features = pd.read_csv('features.csv')"
      ],
      "execution_count": 16,
      "outputs": []
    },
    {
      "cell_type": "code",
      "metadata": {
        "colab": {
          "base_uri": "https://localhost:8080/"
        },
        "id": "KhvPg6odAQff",
        "outputId": "5095af24-22e6-48cf-f573-d885c6b47994"
      },
      "source": [
        "!pip install datatable"
      ],
      "execution_count": 17,
      "outputs": [
        {
          "output_type": "stream",
          "text": [
            "Collecting datatable\n",
            "\u001b[?25l  Downloading https://files.pythonhosted.org/packages/80/cb/21810c43b687a19d194c372192049f535fba28c55ce76d37e7e407159c52/datatable-0.11.1-cp36-cp36m-manylinux2010_x86_64.whl (83.7MB)\n",
            "\u001b[K     |████████████████████████████████| 83.7MB 66kB/s \n",
            "\u001b[?25hInstalling collected packages: datatable\n",
            "Successfully installed datatable-0.11.1\n"
          ],
          "name": "stdout"
        }
      ]
    },
    {
      "cell_type": "code",
      "metadata": {
        "id": "NzYd2mwxAJ-u"
      },
      "source": [
        "import datatable as dt"
      ],
      "execution_count": 18,
      "outputs": []
    },
    {
      "cell_type": "code",
      "metadata": {
        "id": "wfDVfAfJiUeY"
      },
      "source": [
        "datatable_df = dt.fread(\"train.csv.zip\")"
      ],
      "execution_count": null,
      "outputs": []
    },
    {
      "cell_type": "code",
      "metadata": {
        "id": "XkP7jKIjiSRu",
        "colab": {
          "base_uri": "https://localhost:8080/",
          "height": 964
        },
        "outputId": "e8f7ed43-e058-47f0-a5a6-4ece36892a91"
      },
      "source": [
        "datatable_df"
      ],
      "execution_count": 21,
      "outputs": [
        {
          "output_type": "stream",
          "text": [
            "        | date     weight        resp_1        resp_2        resp_3        resp_4  …  feature_128  feature_129    ts_id\n",
            "------- + ----  ---------  ------------  ------------  ------------  ------------     -----------  -----------  -------\n",
            "      0 |    0   0          0.00991599    0.0140786     0.00877305    0.00139037   …     2.30149     11.4458          0\n",
            "      1 |    0  16.6735    -0.00282823   -0.00322632   -0.00731949   -0.0111141    …    -1.30461      1.89868         1\n",
            "      2 |    0   0          0.0251339     0.0276074     0.0334057     0.0343797    …     6.63825      9.4273          2\n",
            "      3 |    0   0         -0.00473014   -0.00327283   -0.000460825  -0.000476205  …     3.85638      1.01347         3\n",
            "      4 |    0   0.138531   0.00125215    0.00216496   -0.00121549   -0.00621861   …     0.362636     3.92663         4\n",
            "      5 |    0   0         -0.00104722   -0.00270018    0.000743332   0.00466723   …     0.360831     3.92232         5\n",
            "      6 |    0   0.190575  -0.00193919   -0.00230082    0.00108837    0.00596285   …     0.361506     3.92171         6\n",
            "      7 |    0   3.82084    0.0173948     0.0213612     0.031163      0.0369698    …     2.20154      4.42974         7\n",
            "      8 |    0   0.116557  -0.00545951   -0.00730076   -0.00908511   -0.00354621   …     1.77803      4.74058         8\n",
            "      9 |    0   0.160117   0.00597634    0.00434459    0.023712      0.0353602    …     1.47242      2.24599         9\n",
            "     10 |    0   0.109651   0.0068989     0.00340469    0.000133513  -0.00304009   …     2.75588      4.96839        10\n",
            "     11 |    0   0.199435  -0.00551237   -0.00339506   -0.00327136   -0.00669141   …     2.63377      4.49808        11\n",
            "     12 |    0   0.298108  -0.00370614   -0.00455118   -0.00683139   -0.00493652   …     0.355697     5.50523        12\n",
            "     13 |    0   0.759367   0.018205      0.00346246   -0.0437909    -0.0815288    …     4.49552      1.56998        13\n",
            "     14 |    0   0.811851  -0.0153279    -0.0123939    -0.0038004    -0.00167176   …     3.59399      2.48968        14\n",
            "      … |    …          …             …             …             …             …  …            …            …        …\n",
            "2390486 |  499   0          0.000141546   0.000141546   0.00582938    0.0203423    …    -1.89205      0.901585  2390486\n",
            "2390487 |  499   0          1.21607e-05   1.21607e-05  -0.000934857  -0.0063256    …     0.648452     2.06874   2390487\n",
            "2390488 |  499   0          0.000498659   0.000498659   0.00760494    0.0249071    …    -1.33614     -2.81424   2390488\n",
            "2390489 |  499   0.283405  -0.000156108  -0.000156108  -0.00137488   -0.00370157   …    -2.18579      0.627452  2390489\n",
            "2390490 |  499   0         -0.00185494   -0.00185494   -0.00119405   -0.000863934  …     1.72607      5.82368   2390490\n",
            "\n",
            "[2390491 rows x 138 columns]\n"
          ],
          "name": "stdout"
        },
        {
          "output_type": "execute_result",
          "data": {
            "text/html": [
              "<div class='datatable'>\n",
              "  <table class='frame'>\n",
              "  <thead>\n",
              "    <tr class='colnames'><td class='row_index'></td><th>date</th><th>weight</th><th>resp_1</th><th>resp_2</th><th>resp_3</th><th>resp_4</th><th>resp</th><th>feature_0</th><th>feature_1</th><th>feature_2</th><th class='vellipsis'>&hellip;</th><th>feature_126</th><th>feature_127</th><th>feature_128</th><th>feature_129</th><th>ts_id</th></tr>\n",
              "    <tr class='coltypes'><td class='row_index'></td><td class='int' title='int32'>&#x25AA;&#x25AA;&#x25AA;&#x25AA;</td><td class='float' title='float64'>&#x25AA;&#x25AA;&#x25AA;&#x25AA;&#x25AA;&#x25AA;&#x25AA;&#x25AA;</td><td class='float' title='float64'>&#x25AA;&#x25AA;&#x25AA;&#x25AA;&#x25AA;&#x25AA;&#x25AA;&#x25AA;</td><td class='float' title='float64'>&#x25AA;&#x25AA;&#x25AA;&#x25AA;&#x25AA;&#x25AA;&#x25AA;&#x25AA;</td><td class='float' title='float64'>&#x25AA;&#x25AA;&#x25AA;&#x25AA;&#x25AA;&#x25AA;&#x25AA;&#x25AA;</td><td class='float' title='float64'>&#x25AA;&#x25AA;&#x25AA;&#x25AA;&#x25AA;&#x25AA;&#x25AA;&#x25AA;</td><td class='float' title='float64'>&#x25AA;&#x25AA;&#x25AA;&#x25AA;&#x25AA;&#x25AA;&#x25AA;&#x25AA;</td><td class='int' title='int32'>&#x25AA;&#x25AA;&#x25AA;&#x25AA;</td><td class='float' title='float64'>&#x25AA;&#x25AA;&#x25AA;&#x25AA;&#x25AA;&#x25AA;&#x25AA;&#x25AA;</td><td class='float' title='float64'>&#x25AA;&#x25AA;&#x25AA;&#x25AA;&#x25AA;&#x25AA;&#x25AA;&#x25AA;</td><td></td><td class='float' title='float64'>&#x25AA;&#x25AA;&#x25AA;&#x25AA;&#x25AA;&#x25AA;&#x25AA;&#x25AA;</td><td class='float' title='float64'>&#x25AA;&#x25AA;&#x25AA;&#x25AA;&#x25AA;&#x25AA;&#x25AA;&#x25AA;</td><td class='float' title='float64'>&#x25AA;&#x25AA;&#x25AA;&#x25AA;&#x25AA;&#x25AA;&#x25AA;&#x25AA;</td><td class='float' title='float64'>&#x25AA;&#x25AA;&#x25AA;&#x25AA;&#x25AA;&#x25AA;&#x25AA;&#x25AA;</td><td class='int' title='int32'>&#x25AA;&#x25AA;&#x25AA;&#x25AA;</td></tr>\n",
              "  </thead>\n",
              "  <tbody>\n",
              "    <tr><td class='row_index'>0</td><td>0</td><td>0</td><td>0.00991599</td><td>0.0140786</td><td>0.00877305</td><td>0.00139037</td><td>0.00627036</td><td>1</td><td>&minus;1.87275</td><td>&minus;2.19124</td><td class=vellipsis>&hellip;</td><td>2.65306</td><td>12.6003</td><td>2.30149</td><td>11.4458</td><td>0</td></tr>\n",
              "    <tr><td class='row_index'>1</td><td>0</td><td>16.6735</td><td>&minus;0.00282823</td><td>&minus;0.00322632</td><td>&minus;0.00731949</td><td>&minus;0.0111141</td><td>&minus;0.00979168</td><td>&minus;1</td><td>&minus;1.34954</td><td>&minus;1.70471</td><td class=vellipsis>&hellip;</td><td>&minus;1.41701</td><td>2.29746</td><td>&minus;1.30461</td><td>1.89868</td><td>1</td></tr>\n",
              "    <tr><td class='row_index'>2</td><td>0</td><td>0</td><td>0.0251339</td><td>0.0276074</td><td>0.0334057</td><td>0.0343797</td><td>0.0239701</td><td>&minus;1</td><td>0.81278</td><td>&minus;0.256156</td><td class=vellipsis>&hellip;</td><td>7.28176</td><td>10.06</td><td>6.63825</td><td>9.4273</td><td>2</td></tr>\n",
              "    <tr><td class='row_index'>3</td><td>0</td><td>0</td><td>&minus;0.00473014</td><td>&minus;0.00327283</td><td>&minus;0.000460825</td><td>&minus;0.000476205</td><td>&minus;0.0032001</td><td>&minus;1</td><td>1.17438</td><td>0.34464</td><td class=vellipsis>&hellip;</td><td>4.39753</td><td>1.26604</td><td>3.85638</td><td>1.01347</td><td>3</td></tr>\n",
              "    <tr><td class='row_index'>4</td><td>0</td><td>0.138531</td><td>0.00125215</td><td>0.00216496</td><td>&minus;0.00121549</td><td>&minus;0.00621861</td><td>&minus;0.00260358</td><td>1</td><td>&minus;3.17203</td><td>&minus;3.09318</td><td class=vellipsis>&hellip;</td><td>0.800129</td><td>5.23324</td><td>0.362636</td><td>3.92663</td><td>4</td></tr>\n",
              "    <tr><td class='row_index'>5</td><td>0</td><td>0</td><td>&minus;0.00104722</td><td>&minus;0.00270018</td><td>0.000743332</td><td>0.00466723</td><td>0.0012817</td><td>&minus;1</td><td>&minus;1.49968</td><td>&minus;1.92802</td><td class=vellipsis>&hellip;</td><td>0.799525</td><td>5.23183</td><td>0.360831</td><td>3.92232</td><td>5</td></tr>\n",
              "    <tr><td class='row_index'>6</td><td>0</td><td>0.190575</td><td>&minus;0.00193919</td><td>&minus;0.00230082</td><td>0.00108837</td><td>0.00596285</td><td>0.000709105</td><td>&minus;1</td><td>&minus;3.17203</td><td>&minus;3.09318</td><td class=vellipsis>&hellip;</td><td>0.800618</td><td>5.2316</td><td>0.361506</td><td>3.92171</td><td>6</td></tr>\n",
              "    <tr><td class='row_index'>7</td><td>0</td><td>3.82084</td><td>0.0173948</td><td>0.0213612</td><td>0.031163</td><td>0.0369698</td><td>0.0334726</td><td>&minus;1</td><td>0.44605</td><td>&minus;0.46621</td><td class=vellipsis>&hellip;</td><td>2.30507</td><td>4.57176</td><td>2.20154</td><td>4.42974</td><td>7</td></tr>\n",
              "    <tr><td class='row_index'>8</td><td>0</td><td>0.116557</td><td>&minus;0.00545951</td><td>&minus;0.00730076</td><td>&minus;0.00908511</td><td>&minus;0.00354621</td><td>&minus;0.00167741</td><td>1</td><td>&minus;3.17203</td><td>&minus;3.09318</td><td class=vellipsis>&hellip;</td><td>2.35434</td><td>5.8255</td><td>1.77803</td><td>4.74058</td><td>8</td></tr>\n",
              "    <tr><td class='row_index'>9</td><td>0</td><td>0.160117</td><td>0.00597634</td><td>0.00434459</td><td>0.023712</td><td>0.0353602</td><td>0.020317</td><td>1</td><td>2.74441</td><td>1.41213</td><td class=vellipsis>&hellip;</td><td>1.58982</td><td>2.436</td><td>1.47242</td><td>2.24599</td><td>9</td></tr>\n",
              "    <tr><td class='row_index'>10</td><td>0</td><td>0.109651</td><td>0.0068989</td><td>0.00340469</td><td>0.000133513</td><td>&minus;0.00304009</td><td>&minus;0.000690382</td><td>1</td><td>&minus;3.17203</td><td>&minus;3.09318</td><td class=vellipsis>&hellip;</td><td>3.05939</td><td>5.35073</td><td>2.75588</td><td>4.96839</td><td>10</td></tr>\n",
              "    <tr><td class='row_index'>11</td><td>0</td><td>0.199435</td><td>&minus;0.00551237</td><td>&minus;0.00339506</td><td>&minus;0.00327136</td><td>&minus;0.00669141</td><td>&minus;0.00214413</td><td>1</td><td>&minus;3.17203</td><td>&minus;3.09318</td><td class=vellipsis>&hellip;</td><td>2.58047</td><td>4.35</td><td>2.63377</td><td>4.49808</td><td>11</td></tr>\n",
              "    <tr><td class='row_index'>12</td><td>0</td><td>0.298108</td><td>&minus;0.00370614</td><td>&minus;0.00455118</td><td>&minus;0.00683139</td><td>&minus;0.00493652</td><td>&minus;0.00270683</td><td>1</td><td>0.652499</td><td>0.279124</td><td class=vellipsis>&hellip;</td><td>0.40083</td><td>6.02503</td><td>0.355697</td><td>5.50523</td><td>12</td></tr>\n",
              "    <tr><td class='row_index'>13</td><td>0</td><td>0.759367</td><td>0.018205</td><td>0.00346246</td><td>&minus;0.0437909</td><td>&minus;0.0815288</td><td>&minus;0.0559789</td><td>&minus;1</td><td>9.61332</td><td>4.84598</td><td class=vellipsis>&hellip;</td><td>6.07808</td><td>2.63996</td><td>4.49552</td><td>1.56998</td><td>13</td></tr>\n",
              "    <tr><td class='row_index'>14</td><td>0</td><td>0.811851</td><td>&minus;0.0153279</td><td>&minus;0.0123939</td><td>&minus;0.0038004</td><td>&minus;0.00167176</td><td>&minus;0.0118183</td><td>1</td><td>4.26263</td><td>1.73439</td><td class=vellipsis>&hellip;</td><td>4.15576</td><td>2.8853</td><td>3.59399</td><td>2.48968</td><td>14</td></tr>\n",
              "    <tr><td class='row_index'>&#x22EE;</td><td class='hellipsis'>&#x22EE;</td><td class='hellipsis'>&#x22EE;</td><td class='hellipsis'>&#x22EE;</td><td class='hellipsis'>&#x22EE;</td><td class='hellipsis'>&#x22EE;</td><td class='hellipsis'>&#x22EE;</td><td class='hellipsis'>&#x22EE;</td><td class='hellipsis'>&#x22EE;</td><td class='hellipsis'>&#x22EE;</td><td class='hellipsis'>&#x22EE;</td><td class='hellipsis'>&#x22F1;</td><td class='hellipsis'>&#x22EE;</td><td class='hellipsis'>&#x22EE;</td><td class='hellipsis'>&#x22EE;</td><td class='hellipsis'>&#x22EE;</td><td class='hellipsis'>&#x22EE;</td></tr>\n",
              "    <tr><td class='row_index'>2,390,486</td><td>499</td><td>0</td><td>0.000141546</td><td>0.000141546</td><td>0.00582938</td><td>0.0203423</td><td>0.0153958</td><td>1</td><td>&minus;1.64937</td><td>&minus;1.17</td><td class=vellipsis>&hellip;</td><td>&minus;2.86616</td><td>&minus;0.21613</td><td>&minus;1.89205</td><td>0.901585</td><td>2390486</td></tr>\n",
              "    <tr><td class='row_index'>2,390,487</td><td>499</td><td>0</td><td>1.21607e-05</td><td>1.21607e-05</td><td>&minus;0.000934857</td><td>&minus;0.0063256</td><td>&minus;0.00471754</td><td>1</td><td>2.43294</td><td>5.2845</td><td class=vellipsis>&hellip;</td><td>&minus;0.146749</td><td>0.730166</td><td>0.648452</td><td>2.06874</td><td>2390487</td></tr>\n",
              "    <tr><td class='row_index'>2,390,488</td><td>499</td><td>0</td><td>0.000498659</td><td>0.000498659</td><td>0.00760494</td><td>0.0249071</td><td>0.0165908</td><td>1</td><td>&minus;0.622475</td><td>&minus;0.963682</td><td class=vellipsis>&hellip;</td><td>&minus;1.66992</td><td>&minus;3.28894</td><td>&minus;1.33614</td><td>&minus;2.81424</td><td>2390488</td></tr>\n",
              "    <tr><td class='row_index'>2,390,489</td><td>499</td><td>0.283405</td><td>&minus;0.000156108</td><td>&minus;0.000156108</td><td>&minus;0.00137488</td><td>&minus;0.00370157</td><td>&minus;0.00200369</td><td>&minus;1</td><td>&minus;1.46376</td><td>&minus;1.10723</td><td class=vellipsis>&hellip;</td><td>&minus;3.34168</td><td>&minus;0.571188</td><td>&minus;2.18579</td><td>0.627452</td><td>2390489</td></tr>\n",
              "    <tr><td class='row_index'>2,390,490</td><td>499</td><td>0</td><td>&minus;0.00185494</td><td>&minus;0.00185494</td><td>&minus;0.00119405</td><td>&minus;0.000863934</td><td>&minus;0.00190462</td><td>&minus;1</td><td>&minus;1.81718</td><td>&minus;1.13158</td><td class=vellipsis>&hellip;</td><td>&minus;0.168395</td><td>2.05109</td><td>1.72607</td><td>5.82368</td><td>2390490</td></tr>\n",
              "  </tbody>\n",
              "  </table>\n",
              "  <div class='footer'>\n",
              "    <div class='frame_dimensions'>2,390,491 rows &times; 138 columns</div>\n",
              "  </div>\n",
              "</div>\n"
            ],
            "text/plain": [
              ""
            ]
          },
          "metadata": {
            "tags": []
          },
          "execution_count": 21
        }
      ]
    }
  ]
}